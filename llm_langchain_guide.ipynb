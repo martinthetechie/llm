{
  "cells": [
    {
      "cell_type": "code",
      "execution_count": 17,
      "metadata": {
        "colab": {
          "base_uri": "https://localhost:8080/"
        },
        "id": "ZejUJJBr4GKM",
        "outputId": "3bc83fe3-a2fd-4a7d-cbdc-906b44211e08"
      },
      "outputs": [
        {
          "name": "stdout",
          "output_type": "stream",
          "text": [
            "Collecting langgraph\n",
            "  Downloading langgraph-0.1.19-py3-none-any.whl.metadata (13 kB)\n",
            "Requirement already satisfied: langchain-core<0.3,>=0.2.22 in /usr/local/lib/python3.10/dist-packages (from langgraph) (0.2.26)\n",
            "Requirement already satisfied: PyYAML>=5.3 in /usr/local/lib/python3.10/dist-packages (from langchain-core<0.3,>=0.2.22->langgraph) (6.0.1)\n",
            "Requirement already satisfied: jsonpatch<2.0,>=1.33 in /usr/local/lib/python3.10/dist-packages (from langchain-core<0.3,>=0.2.22->langgraph) (1.33)\n",
            "Requirement already satisfied: langsmith<0.2.0,>=0.1.75 in /usr/local/lib/python3.10/dist-packages (from langchain-core<0.3,>=0.2.22->langgraph) (0.1.95)\n",
            "Requirement already satisfied: packaging<25,>=23.2 in /usr/local/lib/python3.10/dist-packages (from langchain-core<0.3,>=0.2.22->langgraph) (24.1)\n",
            "Requirement already satisfied: pydantic<3,>=1 in /usr/local/lib/python3.10/dist-packages (from langchain-core<0.3,>=0.2.22->langgraph) (2.8.2)\n",
            "Requirement already satisfied: tenacity!=8.4.0,<9.0.0,>=8.1.0 in /usr/local/lib/python3.10/dist-packages (from langchain-core<0.3,>=0.2.22->langgraph) (8.5.0)\n",
            "Requirement already satisfied: typing-extensions>=4.7 in /usr/local/lib/python3.10/dist-packages (from langchain-core<0.3,>=0.2.22->langgraph) (4.12.2)\n",
            "Requirement already satisfied: jsonpointer>=1.9 in /usr/local/lib/python3.10/dist-packages (from jsonpatch<2.0,>=1.33->langchain-core<0.3,>=0.2.22->langgraph) (3.0.0)\n",
            "Requirement already satisfied: orjson<4.0.0,>=3.9.14 in /usr/local/lib/python3.10/dist-packages (from langsmith<0.2.0,>=0.1.75->langchain-core<0.3,>=0.2.22->langgraph) (3.10.6)\n",
            "Requirement already satisfied: requests<3,>=2 in /usr/local/lib/python3.10/dist-packages (from langsmith<0.2.0,>=0.1.75->langchain-core<0.3,>=0.2.22->langgraph) (2.31.0)\n",
            "Requirement already satisfied: annotated-types>=0.4.0 in /usr/local/lib/python3.10/dist-packages (from pydantic<3,>=1->langchain-core<0.3,>=0.2.22->langgraph) (0.7.0)\n",
            "Requirement already satisfied: pydantic-core==2.20.1 in /usr/local/lib/python3.10/dist-packages (from pydantic<3,>=1->langchain-core<0.3,>=0.2.22->langgraph) (2.20.1)\n",
            "Requirement already satisfied: charset-normalizer<4,>=2 in /usr/local/lib/python3.10/dist-packages (from requests<3,>=2->langsmith<0.2.0,>=0.1.75->langchain-core<0.3,>=0.2.22->langgraph) (3.3.2)\n",
            "Requirement already satisfied: idna<4,>=2.5 in /usr/local/lib/python3.10/dist-packages (from requests<3,>=2->langsmith<0.2.0,>=0.1.75->langchain-core<0.3,>=0.2.22->langgraph) (3.7)\n",
            "Requirement already satisfied: urllib3<3,>=1.21.1 in /usr/local/lib/python3.10/dist-packages (from requests<3,>=2->langsmith<0.2.0,>=0.1.75->langchain-core<0.3,>=0.2.22->langgraph) (2.0.7)\n",
            "Requirement already satisfied: certifi>=2017.4.17 in /usr/local/lib/python3.10/dist-packages (from requests<3,>=2->langsmith<0.2.0,>=0.1.75->langchain-core<0.3,>=0.2.22->langgraph) (2024.7.4)\n",
            "Downloading langgraph-0.1.19-py3-none-any.whl (102 kB)\n",
            "\u001b[2K   \u001b[90m━━━━━━━━━━━━━━━━━━━━━━━━━━━━━━━━━━━━━━━━\u001b[0m \u001b[32m102.6/102.6 kB\u001b[0m \u001b[31m1.1 MB/s\u001b[0m eta \u001b[36m0:00:00\u001b[0m\n",
            "\u001b[?25hInstalling collected packages: langgraph\n",
            "Successfully installed langgraph-0.1.19\n"
          ]
        }
      ],
      "source": [
        "# Install required packages\n",
        "# !pip install langchain_huggingface\n",
        "# !pip install langchain\n",
        "# !pip install openai\n",
        "# !pip install tiktoken\n",
        "# !pip install chromadb\n",
        "# !pip install pypdf\n",
        "# !pip install langgraph\n",
        "# !pip install langchain-community\n",
        "# !pip install langchain-openai\n",
        "# !pip install langchain_core\n",
        "# !pip install wikipedia"
      ]
    },
    {
      "cell_type": "markdown",
      "metadata": {
        "id": "hXP2QvbKFGhH"
      },
      "source": [
        "LLM Langchain:\n",
        "1. Agents\n",
        "2. Chains\n",
        "3. Memory\n",
        "4. Prompts\n",
        "5. Tools"
      ]
    },
    {
      "cell_type": "markdown",
      "metadata": {
        "id": "Ta_e4qKe4IHt"
      },
      "source": []
    },
    {
      "cell_type": "code",
      "execution_count": null,
      "metadata": {
        "colab": {
          "base_uri": "https://localhost:8080/"
        },
        "id": "ybmYIumH2fS3",
        "outputId": "04929308-9fa2-475e-cb88-c464f048c160"
      },
      "outputs": [
        {
          "name": "stdout",
          "output_type": "stream",
          "text": [
            "The token has not been saved to the git credentials helper. Pass `add_to_git_credential=True` in this function directly or `--add-to-git-credential` if using via `huggingface-cli` if you want to set the git credential as well.\n",
            "Token is valid (permission: write).\n",
            "Your token has been saved to /root/.cache/huggingface/token\n",
            "Login successful\n",
            ". They are your feet’s best friend. They take you through thick and thin. They are your perfect partner on the go. The best thing about them is that they can be your best friend too. They don’t complain and are always there for you. However, they are not meant to withstand a lot of damage. In fact, they are a lot more fragile than your feet. If you want them to keep your feet happy for a long time, you should take care of your shoes.\n",
            "Here are some tips to help you take care of your shoes.\n",
            "Contents\n",
            "- 1 Cleaning Your Shoes\n",
            "- 2 Waterproofing Your Shoes\n",
            "- 3 Treating Your Shoes\n",
            "- 4 Identifying A Good Shoe\n",
            "- 5 Putting Your Shoes Through A Tough Workout\n",
            "- 6 Protecting Your Shoes From The Elements\n",
            "- 7 Choosing Your Shoes\n",
            "- 8 Taking Care of Your Shoes\n",
            "Cleaning Your Shoes\n",
            "While you might not think about cleaning your shoes, it is something that is important. If you don’t clean them, they will get dirty. In addition to that, they might even get damaged. It is always better to take a little extra care and clean them up. It will save you a lot of money in the long run.\n",
            "How To Clean Your Shoes\n",
            "To clean your shoes, you will need a few things. You will need some soap and water. You will also need a cleaning brush. A damp cloth is ideal for cleaning. Once you have these items, you will need to use them in a particular way.\n",
            "Here are the steps to clean your shoes:\n",
            "- First, you should remove any dirt or dust from your shoes. You can do this by brushing the shoes. If the dirt or dust is too tough, you can use a cleaning brush.\n",
            "- The next step is to clean your shoes using a cleaning brush. If you don’t have one, you can use a soft cloth. You can use soap and water to clean your shoes.\n",
            "- Once you have cleaned your shoes, you will need to dry them. You can do this by using a towel or by placing your shoes in a cool, dry place.\n",
            "- Finally, it is important that you disinfect your shoes. This is something that is ideal if you are using your shoes on a daily basis.\n",
            "In addition to the above steps, you should also check your shoes for any signs of wear and tear. This will allow you to see if you need to replace them or\n"
          ]
        }
      ],
      "source": [
        "from langchain_huggingface import HuggingFaceEndpoint\n",
        "\n",
        "HUGGING_FACE_CREDENTIALS = ''\n",
        "# Set your Hugging Face API token\n",
        "huggingfacehub_api_token = HUGGING_FACE_CREDENTIALS\n",
        "\n",
        "# Define the LLM\n",
        "llm = HuggingFaceEndpoint(repo_id='tiiuae/falcon-7b-instruct', huggingfacehub_api_token=\"\")\n",
        "\n",
        "# Predict the words following the text in question\n",
        "question = 'Whatever you do, take care of your shoes'\n",
        "output = llm.invoke(question)\n",
        "\n",
        "print(output)"
      ]
    },
    {
      "cell_type": "code",
      "execution_count": null,
      "metadata": {
        "colab": {
          "base_uri": "https://localhost:8080/"
        },
        "id": "gUtIZXJw_4jM",
        "outputId": "6d5b36aa-8ec8-489e-8097-951795413515"
      },
      "outputs": [
        {
          "name": "stdout",
          "output_type": "stream",
          "text": [
            ", they will take care of you.\n",
            "\n",
            "If you are a shoe lover, you know that taking care of your shoes is essential. Not only does it help them look good, but it also helps them last longer. Here are some tips to help you take care of your shoes:\n",
            "\n",
            "1. Clean and polish your shoes regularly.\n",
            "\n",
            "Dirt and grime can build upon shoes, making them look dull and unattractive. To keep your shoes looking their best, clean them regularly with a damp cloth or a soft brush. If you have leather shoes, use a shoe polish to restore their shine and protect the leather.\n",
            "\n",
            "2. Protect your shoes from water and moisture.\n",
            "\n",
            "Water and moisture can damage shoes, especially leather ones. If you are caught in the rain or accidentally spill something on your shoes, wipe them dry immediately. You can also use a waterproof spray to protect your shoes from water damage.\n",
            "\n",
            "3. Rotate your shoes.\n",
            "\n",
            "Wearing the same pair of shoes every day can cause them to wear out quickly. To extend the life of your shoes, rotate them and give them a break. This also allows them to dry out and air out, preventing the growth of bacteria and odor.\n",
            "\n",
            "4. Use shoe trees.\n",
            "\n",
            "Shoe trees are a great investment for shoe lovers. They help\n"
          ]
        }
      ],
      "source": [
        "\n",
        "from langchain_openai import OpenAI\n",
        "\n",
        "# Set your API Key from OpenAI\n",
        "openai_api_key = \"\"\n",
        "\n",
        "# Define the LLM\n",
        "llm = OpenAI(model_name=\"gpt-3.5-turbo-instruct\", openai_api_key=\"\")\n",
        "\n",
        "# Predict the words following the text in question\n",
        "question = 'Whatever you do, take care of your shoes'\n",
        "output = llm.invoke(question)\n",
        "\n",
        "print(output)"
      ]
    },
    {
      "cell_type": "code",
      "execution_count": null,
      "metadata": {
        "colab": {
          "base_uri": "https://localhost:8080/"
        },
        "id": "ukXZlWxJAuKo",
        "outputId": "a94607aa-e8ca-4761-d068-d31c31834ef7"
      },
      "outputs": [
        {
          "name": "stdout",
          "output_type": "stream",
          "text": [
            "To retain learning effectively, you can try the following strategies:\n",
            "\n",
            "1. Review and practice regularly: Consistent review and practice of the material you have learned can help reinforce your memory and understanding.\n",
            "\n",
            "2. Teach others: Explaining concepts to someone else can help solidify your own understanding and retention of the information.\n",
            "\n",
            "3. Use mnemonic devices: Mnemonics, such as acronyms or visual aids, can help you remember key information more easily.\n",
            "\n",
            "4. Stay engaged: Actively participate in your learning process by asking questions, taking notes, and seeking out additional resources to deepen your understanding.\n",
            "\n",
            "5. Apply what you've learned: Put your knowledge into practice by applying it to real-life situations or scenarios.\n",
            "\n",
            "6. Take breaks: Give yourself time to rest and recharge between study sessions to prevent burnout and improve retention.\n",
            "\n",
            "By incorporating these strategies into your learning routine, you can enhance your ability to retain information effectively.\n"
          ]
        }
      ],
      "source": [
        "from langchain_openai import ChatOpenAI\n",
        "from langchain_core.chat_history import ChatMessageHistory\n",
        "from langchain_core.prompts import ChatPromptTemplate\n",
        "# Prompt Templates and Chaining\n",
        "# Set your API Key from OpenAI\n",
        "openai_api_key = \"\"\n",
        "\n",
        "# Define an OpenAI chat model\n",
        "llm = ChatOpenAI(temperature=0, openai_api_key=\"\")\n",
        "\n",
        "# Create a chat prompt template\n",
        "prompt_template = ChatPromptTemplate.from_messages(\n",
        "    [\n",
        "        (\"system\", \"You are a helpful assistant.\"),\n",
        "        (\"human\", \"Respond to question: {question}\")\n",
        "    ]\n",
        ")\n",
        "\n",
        "# Chain the prompt template and model, and invoke the chain\n",
        "llm_chain = prompt_template | llm\n",
        "response = llm_chain.invoke({\"question\": \"How can I retain learning?\"})\n",
        "print(response.content)"
      ]
    },
    {
      "cell_type": "code",
      "execution_count": null,
      "metadata": {
        "colab": {
          "base_uri": "https://localhost:8080/"
        },
        "id": "gQ285mqwE42k",
        "outputId": "c0c49d2d-5fbb-41ca-a3c1-52d3240a515b"
      },
      "outputs": [
        {
          "name": "stdout",
          "output_type": "stream",
          "text": [
            "A concise way to create lists in Python using a single line of code.\n"
          ]
        }
      ],
      "source": [
        "from langchain_openai import ChatOpenAI\n",
        "from langchain_community.chat_message_histories import ChatMessageHistory\n",
        "from langchain_core.prompts import ChatPromptTemplate\n",
        "# Context/Memory for LLM conversations\n",
        "# Set your API Key from OpenAI\n",
        "openai_api_key= ''\n",
        "llm = ChatOpenAI(temperature=0, openai_api_key=\"\")\n",
        "\n",
        "# Create the conversation history and add the first AI message\n",
        "history = ChatMessageHistory()\n",
        "history.add_ai_message(\"Hello! Ask me anything about Python programming!\")\n",
        "\n",
        "# Add the user message to the history\n",
        "history.add_user_message(\"What is a list comprehension?\")\n",
        "\n",
        "# Add another user message and call the model\n",
        "history.add_user_message(\"Describe the same in fewer words\")\n",
        "response = llm.invoke(history.messages)\n",
        "print(response.content)"
      ]
    },
    {
      "cell_type": "code",
      "execution_count": null,
      "metadata": {
        "id": "ZkCeLJN6u2kr"
      },
      "outputs": [],
      "source": [
        "# Memory Management\n",
        "# Set your API Key from OpenAI\n",
        "openai_api_key = ''\n",
        "chat = OpenAI(model_name=\"gpt-3.5-turbo-instruct\", temperature=0, openai_api_key=\"\")\n",
        "\n",
        "# Define a buffer memory\n",
        "memory = ConversationBufferMemory(size=4)\n",
        "\n",
        "# Define the chain for integrating the memory with the model\n",
        "buffer_chain = ConversationChain(llm=chat, memory=memory)\n",
        "\n",
        "# Invoke the chain with the inputs provided\n",
        "buffer_chain.invoke(\"Write Python code to draw a scatter plot.\")\n",
        "buffer_chain.invoke(\"Use the Seaborn library.\")"
      ]
    },
    {
      "cell_type": "code",
      "execution_count": null,
      "metadata": {
        "id": "Ta_3EAaau7E7"
      },
      "outputs": [],
      "source": [
        "# Summary Chain\n",
        "# Set your API Key from OpenAI\n",
        "openai_api_key = ''\n",
        "chat = ChatOpenAI(model_name=\"gpt-3.5-turbo\", temperature=0, openai_api_key=\"\")\n",
        "\n",
        "# Define a summary memory that uses an OpenAI chat model\n",
        "memory = ConversationSummaryMemory(llm=ChatOpenAI(model_name=\"gpt-3.5-turbo\", openai_api_key=\"\"))\n",
        "\n",
        "# Define the chain for integrating the memory with the model\n",
        "summary_chain = ConversationChain(llm=chat, memory=memory, verbose=True)\n",
        "\n",
        "# Invoke the chain with the inputs provided\n",
        "summary_chain.invoke(\"Describe the relationship of the human mind with the keyboard when taking a great online class.\")\n",
        "summary_chain.invoke(\"Use an analogy to describe it.\")"
      ]
    },
    {
      "cell_type": "code",
      "execution_count": null,
      "metadata": {
        "id": "_KDITpqbvZQW"
      },
      "outputs": [],
      "source": [
        "# Building Prompts for sequential chain\n",
        "# Create a prompt template that takes an input activity\n",
        "learning_prompt = PromptTemplate(\n",
        "    input_variables=[\"activity\"],\n",
        "    template=\"I want to learn how to {activity}. Can you suggest how I can learn this step-by-step?\"\n",
        ")\n",
        "\n",
        "# Create a prompt template that places a time constraint on the output\n",
        "time_prompt = PromptTemplate(\n",
        "    input_variables=[\"learning_plan\"],\n",
        "    template=\"I only have one week. Can you create a plan to help me hit this goal: {learning_plan}.\"\n",
        ")\n",
        "\n",
        "# Invoke the learning_prompt with an activity\n",
        "print(learning_prompt.invoke({\"activity\": \"play golf\"}))"
      ]
    },
    {
      "cell_type": "code",
      "execution_count": 7,
      "metadata": {
        "colab": {
          "base_uri": "https://localhost:8080/"
        },
        "id": "1wKWFzMNzXJn",
        "outputId": "2aecb7ef-32ca-4b7c-bbbd-fb9e0caf1115"
      },
      "outputs": [
        {
          "name": "stdout",
          "output_type": "stream",
          "text": [
            "\n",
            "\n",
            "Additionally, here are some tips to help you make the most of your one week:\n",
            "\n",
            "- Dedicate at least 30 minutes to an hour each day to practicing the harmonica.\n",
            "- Break down your practice sessions into smaller chunks to focus on specific skills or techniques.\n",
            "- Record yourself playing to track your progress and identify areas for improvement.\n",
            "- Watch tutorials and listen to recordings of skilled harmonica players to learn from their techniques and styles.\n",
            "- Experiment with different genres of music to expand your musical repertoire and keep things interesting.\n",
            "- Don't be afraid to make mistakes - they are part of the learning process. Keep a positive attitude and have fun with your practice sessions.\n",
            "\n",
            "With dedication and consistent practice, you'll be well on your way to mastering the harmonica in just one week. Good luck!\n"
          ]
        }
      ],
      "source": [
        "# Sequential chains with LCEL\n",
        "from langchain_core.prompts import PromptTemplate\n",
        "from langchain_core.output_parsers import StrOutputParser\n",
        "from langchain_openai import ChatOpenAI\n",
        "\n",
        "learning_prompt = PromptTemplate(\n",
        "    input_variables=[\"activity\"],\n",
        "    template=\"I want to learn how to {activity}. Can you suggest how I can learn this step-by-step?\"\n",
        ")\n",
        "\n",
        "time_prompt = PromptTemplate(\n",
        "    input_variables=[\"learning_plan\"],\n",
        "    template=\"I only have one week. Can you create a plan to help me hit this goal: {learning_plan}.\"\n",
        ")\n",
        "\n",
        "llm = ChatOpenAI(openai_api_key=\"\")\n",
        "\n",
        "# Complete the sequential chain with LCEL\n",
        "seq_chain = ({\"learning_plan\": learning_prompt | llm | StrOutputParser()}\n",
        "    | time_prompt\n",
        "    | llm\n",
        "    | StrOutputParser())\n",
        "\n",
        "# Call the chain\n",
        "print(seq_chain.invoke({\"activity\": \"play the harmonica\"}))"
      ]
    },
    {
      "cell_type": "code",
      "execution_count": 18,
      "metadata": {
        "colab": {
          "base_uri": "https://localhost:8080/"
        },
        "id": "MrSWcvwl4T2C",
        "outputId": "52d20f0e-667f-4980-8d99-5e50f5ebbabd"
      },
      "outputs": [
        {
          "name": "stdout",
          "output_type": "stream",
          "text": [
            "{'messages': [HumanMessage(content='Summarize key facts about London, England.', id='3adc4f09-7dbc-4593-b980-93ddaca2a5ff'), AIMessage(content='', additional_kwargs={'tool_calls': [{'id': 'call_q2Kmt5JqFKN7RwpZABpHXCsj', 'function': {'arguments': '{\"query\":\"London, England\"}', 'name': 'wikipedia'}, 'type': 'function'}]}, response_metadata={'token_usage': {'completion_tokens': 15, 'prompt_tokens': 93, 'total_tokens': 108}, 'model_name': 'gpt-3.5-turbo-0125', 'system_fingerprint': None, 'finish_reason': 'tool_calls', 'logprobs': None}, id='run-f9210d2e-e8e2-4959-a0c2-a0d846e5ac75-0', tool_calls=[{'name': 'wikipedia', 'args': {'query': 'London, England'}, 'id': 'call_q2Kmt5JqFKN7RwpZABpHXCsj', 'type': 'tool_call'}], usage_metadata={'input_tokens': 93, 'output_tokens': 15, 'total_tokens': 108}), ToolMessage(content='Page: London\\nSummary: London ( LUN-dən) is the capital and largest city of both England and the United Kingdom, with a population of 8,866,180 in 2022. The wider metropolitan area is the largest in Western Europe, with a population of 14.9 million. London stands on the River Thames in southeast England, at the head of a 50-mile (80 km) estuary down to the North Sea, and has been a major settlement for nearly 2,000 years. Its ancient core and financial centre, the City of London, was founded by the Romans as Londinium and has retained its medieval boundaries. The City of Westminster, to the west of the City of London, has been the centuries-long host of the national government and parliament. London grew rapidly in the 19th century, becoming the world\\'s largest city at the time. Since the 19th century, the name \"London\" has referred to the metropolis around the City of London, historically split between the counties of Middlesex, Essex, Surrey, Kent, and Hertfordshire, which since 1965 has largely comprised the administrative area of Greater London, governed by 33 local authorities and the Greater London Authority. \\nAs one of the world\\'s major global cities, London exerts a strong influence on world art, entertainment, fashion, commerce, finance, education, healthcare, media, science, technology, tourism, transport, and communications. Despite a post-Brexit exodus of stock listings from the London Stock Exchange, London remains Europe\\'s most economically powerful city and one of the world\\'s major financial centres. It hosts Europe\\'s largest concentration of higher education institutions, some of which are the highest-ranked academic institutions in the world: Imperial College London in natural and applied sciences, the London School of Economics in social sciences, and the comprehensive University College London. It is the most visited city in Europe and has the world\\'s busiest city airport system. The London Underground is the world\\'s oldest rapid transit system.  \\nLondon\\'s diverse cultures encompass over 300 languages. The 2023 population of Greater London of just under 10 million made it Europe\\'s third-most populous city, accounting for 13.4% of the United Kingdom\\'s population and over 16% of England\\'s population. The Greater London Built-up Area is the fourth-most populous in Europe, with about 9.8 million inhabitants as of 2011. The London metropolitan area is the third-most populous in Europe, with about 14 million inhabitants as of 2016,  making London a megacity.\\nFour World Heritage Sites are located in London: Kew Gardens; the Tower of London; the site featuring the Palace of Westminster, Church of St Margaret, and Westminster Abbey; and the historic settlement in Greenwich where the Royal Observatory defines the prime meridian (0° longitude) and Greenwich Mean Time. Other landmarks include Buckingham Palace, the London Eye, Piccadilly Circus, St Paul\\'s Cathedral, Tower Bridge, and Trafalgar Square. The city has the most museums, art galleries, libraries, and cultural venues in the UK, including the British Museum, National Gallery, Natural History Museum, Tate Modern, British Library, and numerous West End theatres. Important sporting events held in London include the FA Cup Final, the Wimbledon Tennis Championships, and the London Marathon. It became the first city to host three Summer Olympic Games upon hosting the 2012 Summer Olympics.\\n\\nPage: Greater London\\nSummary: Greater London is the administrative area of London, which is coterminous with the London region. It contains 33 local government districts: the 32 London boroughs, which form a ceremonial county also called Greater London, and the City of London. The Greater London Authority is responsible for strategic local government across the region, and regular local government is the responsibility of the borough councils and the City of London Corporation. Greater London is bordered by the ceremonial counties of Hertfordshire to the north, Essex to the north-ea', name='wikipedia', id='85ce2752-4c1d-4835-a973-5dbefdb0106a', tool_call_id='call_q2Kmt5JqFKN7RwpZABpHXCsj'), AIMessage(content=\"London is the capital and largest city of both England and the United Kingdom, with a population of 8,866,180 in 2022. It is situated on the River Thames in southeast England and has been a major settlement for nearly 2,000 years. London is a global city that influences art, entertainment, fashion, commerce, finance, education, healthcare, media, science, technology, tourism, transport, and communications. It remains Europe's most economically powerful city and a major financial center. London is known for its diverse cultures, with over 300 languages spoken, and is home to numerous landmarks, museums, art galleries, and cultural venues. The city has four World Heritage Sites and is the most visited city in Europe. Additionally, London hosted the 2012 Summer Olympics, becoming the first city to host three Summer Olympic Games. The Greater London area, which includes 33 local government districts, is the administrative region of London.\", response_metadata={'token_usage': {'completion_tokens': 192, 'prompt_tokens': 935, 'total_tokens': 1127}, 'model_name': 'gpt-3.5-turbo-0125', 'system_fingerprint': None, 'finish_reason': 'stop', 'logprobs': None}, id='run-dc687e46-bfcf-44a5-9c91-4b653747e7d1-0', usage_metadata={'input_tokens': 935, 'output_tokens': 192, 'total_tokens': 1127})]}\n"
          ]
        }
      ],
      "source": [
        "# ReAct (Reason & Act) Agents\n",
        "from langgraph.prebuilt import create_react_agent\n",
        "from langchain.agents import load_tools\n",
        "\n",
        "# Set your API Key from OpenAI\n",
        "openai_api_key = ''\n",
        "\n",
        "llm = ChatOpenAI(model_name=\"gpt-3.5-turbo\", temperature=0, openai_api_key=\"\")\n",
        "\n",
        "# Define the tools\n",
        "tools = load_tools([\"wikipedia\"])\n",
        "\n",
        "# Define the agent\n",
        "agent = create_react_agent(llm, tools)\n",
        "\n",
        "# Invoke the agent\n",
        "response = agent.invoke({\"messages\": [(\"human\", \"Summarize key facts about London, England.\")]})\n",
        "print(response)"
      ]
    },
    {
      "cell_type": "code",
      "execution_count": null,
      "metadata": {
        "id": "nbQpmzfNDlRD"
      },
      "outputs": [],
      "source": [
        "# Set your API Key from OpenAI\n",
        "openai_api_key = ''\n",
        "\n",
        "llm = ChatOpenAI(model_name=\"gpt-3.5-turbo\", temperature=0, openai_api_key=\"\")\n",
        "\n",
        "@tool\n",
        "def retrieve_customer_info(name: str) -> str:\n",
        "    \"\"\"Retrieve customer information based on their name.\"\"\"\n",
        "    customer_info = customers[customers['name'] == name]\n",
        "    return customer_info.to_string()\n",
        "\n",
        "# Create a ReAct agent\n",
        "agent = create_react_agent(llm, [retrieve_customer_info])\n",
        "\n",
        "# Invoke the agent on the input\n",
        "messages = agent.invoke({\"messages\": [(\"human\", \"Create a summary of our customer: Peak Performance Co.\")]})\n",
        "print(messages['messages'][-1].content)"
      ]
    },
    {
      "cell_type": "code",
      "execution_count": null,
      "metadata": {
        "id": "RI045gR6CUjZ"
      },
      "outputs": [],
      "source": [
        "# Tool Decorator\n",
        "# converts functions into custom tools that are compatiable with Langchain Agents\n",
        "# Convert the retrieve_customer_info function into a tool\n",
        "@tool\n",
        "def retrieve_customer_info(name: str) -> str:\n",
        "    \"\"\"Retrieve customer information based on their name.\"\"\"\n",
        "    customer_info = customers[customers['name'] == name]\n",
        "    return customer_info.to_string()\n",
        "\n",
        "# Print the tool's arguments\n",
        "print(retrieve_customer_info.args)"
      ]
    }
  ],
  "metadata": {
    "colab": {
      "provenance": []
    },
    "kernelspec": {
      "display_name": "Python 3",
      "name": "python3"
    },
    "language_info": {
      "name": "python"
    }
  },
  "nbformat": 4,
  "nbformat_minor": 0
}
